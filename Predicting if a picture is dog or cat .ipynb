{
 "cells": [
  {
   "cell_type": "code",
   "execution_count": 1,
   "metadata": {
    "scrolled": true
   },
   "outputs": [],
   "source": [
    "import os, shutil\n",
    "original_dataset_dir = 'F:\\\\Downloads\\\\train\\\\train'\n",
    "base_dir = 'F:\\\\Downloads\\\\cats_and_dogs_small'\n",
    "os.mkdir(base_dir)"
   ]
  },
  {
   "cell_type": "code",
   "execution_count": null,
   "metadata": {},
   "outputs": [],
   "source": []
  },
  {
   "cell_type": "code",
   "execution_count": 2,
   "metadata": {},
   "outputs": [],
   "source": [
    "train_dir = os.path.join(base_dir,'train')\n",
    "os.mkdir(train_dir)"
   ]
  },
  {
   "cell_type": "code",
   "execution_count": 3,
   "metadata": {},
   "outputs": [],
   "source": [
    "validation_dir = os.path.join(base_dir,'validation')\n",
    "os.mkdir(validation_dir)"
   ]
  },
  {
   "cell_type": "code",
   "execution_count": 4,
   "metadata": {},
   "outputs": [],
   "source": [
    "test_dir = os.path.join(base_dir,'test')\n",
    "os.mkdir(test_dir)"
   ]
  },
  {
   "cell_type": "code",
   "execution_count": 5,
   "metadata": {},
   "outputs": [],
   "source": [
    "train_cats_dir = os.path.join(train_dir,'cats')\n",
    "os.mkdir(train_cats_dir)"
   ]
  },
  {
   "cell_type": "code",
   "execution_count": 6,
   "metadata": {},
   "outputs": [],
   "source": [
    "train_dogs_dir = os.path.join(train_dir,'dogs')\n",
    "os.mkdir(train_dogs_dir)"
   ]
  },
  {
   "cell_type": "code",
   "execution_count": 7,
   "metadata": {},
   "outputs": [],
   "source": [
    "validation_dogs_dir = os.path.join(validation_dir,'dogs')\n",
    "os.mkdir(validation_dogs_dir)"
   ]
  },
  {
   "cell_type": "code",
   "execution_count": 8,
   "metadata": {},
   "outputs": [],
   "source": [
    "validation_cats_dir = os.path.join(validation_dir,'cats')\n",
    "os.mkdir(validation_cats_dir)"
   ]
  },
  {
   "cell_type": "code",
   "execution_count": 9,
   "metadata": {},
   "outputs": [],
   "source": [
    "test_dogs_dir = os.path.join(test_dir,'dogs')\n",
    "os.mkdir(test_dogs_dir)"
   ]
  },
  {
   "cell_type": "code",
   "execution_count": 10,
   "metadata": {},
   "outputs": [],
   "source": [
    "test_cats_dir = os.path.join(test_dir,'cats')\n",
    "os.mkdir(test_cats_dir)"
   ]
  },
  {
   "cell_type": "code",
   "execution_count": 11,
   "metadata": {
    "scrolled": false
   },
   "outputs": [],
   "source": [
    "fnames = ['cat.{}.jpg'.format(i) for i in range(1000)]\n",
    "for fname in fnames:\n",
    "    src = os.path.join(original_dataset_dir, fname)\n",
    "    dst = os.path.join(train_cats_dir, fname)\n",
    "    shutil.copyfile(src, dst)"
   ]
  },
  {
   "cell_type": "code",
   "execution_count": 12,
   "metadata": {},
   "outputs": [],
   "source": [
    "# setting the validation data equal to 500\n",
    "fnames = ['cat.{}.jpg'.format(i) for i in range(1000,1500)]\n",
    "for fname in fnames:\n",
    "    src = os.path.join(original_dataset_dir,fname)\n",
    "    dst = os.path.join(validation_cats_dir,fname)\n",
    "    shutil.copyfile(src,dst)"
   ]
  },
  {
   "cell_type": "code",
   "execution_count": 13,
   "metadata": {},
   "outputs": [],
   "source": [
    "fnames = ['cat.{}.jpg'.format(i) for i in range(1500,2000)]\n",
    "for fname in fnames:\n",
    "    src = os.path.join(original_dataset_dir,fname)\n",
    "    dst = os.path.join(test_cats_dir,fname)\n",
    "    shutil.copyfile(src,dst)"
   ]
  },
  {
   "cell_type": "code",
   "execution_count": 14,
   "metadata": {},
   "outputs": [],
   "source": [
    "#setting the training data to 1000 pictures\n",
    "fnames = ['dog.{}.jpg'.format(i) for i in range(1000)]\n",
    "for fname in fnames:\n",
    "    src = os.path.join(original_dataset_dir, fname)\n",
    "    dst = os.path.join(train_dogs_dir, fname)\n",
    "    shutil.copyfile(src, dst)\n",
    "fnames = ['dog.{}.jpg'.format(i) for i in range(1000, 1500)]\n",
    "#setting the validation data equal to 500 sample\n",
    "for fname in fnames:\n",
    "    src = os.path.join(original_dataset_dir, fname)\n",
    "    dst = os.path.join(validation_dogs_dir, fname)\n",
    "    shutil.copyfile(src, dst)\n",
    "# setting test data equal to 500 samples\n",
    "fnames = ['dog.{}.jpg'.format(i) for i in range(1500, 2000)]\n",
    "for fname in fnames:\n",
    "    src = os.path.join(original_dataset_dir, fname)\n",
    "    dst = os.path.join(test_dogs_dir, fname)\n",
    "    shutil.copyfile(src, dst)"
   ]
  },
  {
   "cell_type": "code",
   "execution_count": 15,
   "metadata": {},
   "outputs": [
    {
     "name": "stderr",
     "output_type": "stream",
     "text": [
      "C:\\Users\\omar\\Anaconda31\\lib\\site-packages\\h5py\\__init__.py:36: FutureWarning: Conversion of the second argument of issubdtype from `float` to `np.floating` is deprecated. In future, it will be treated as `np.float64 == np.dtype(float).type`.\n",
      "  from ._conv import register_converters as _register_converters\n",
      "Using TensorFlow backend.\n"
     ]
    }
   ],
   "source": [
    "from keras import layers\n",
    "from keras import models\n"
   ]
  },
  {
   "cell_type": "code",
   "execution_count": 16,
   "metadata": {},
   "outputs": [],
   "source": [
    "model = models.Sequential()\n",
    "model.add(layers.Conv2D(32,(3,3),activation='relu',input_shape=(150,150,3)))\n",
    "model.add(layers.MaxPooling2D((2,2)))\n",
    "model.add(layers.Conv2D(64,(3,3),activation='relu'))\n",
    "model.add(layers.MaxPooling2D((2,2)))\n",
    "model.add(layers.Conv2D(128,(3,3),activation='relu'))\n",
    "model.add(layers.MaxPooling2D((2,2)))\n",
    "model.add(layers.Conv2D(128,(3,3),activation='relu'))\n",
    "model.add(layers.MaxPooling2D((2,2)))\n",
    "model.add(layers.Flatten())\n",
    "model.add(layers.Dense(512,activation='relu'))\n",
    "model.add(layers.Dense(1,activation='sigmoid'))\n"
   ]
  },
  {
   "cell_type": "code",
   "execution_count": 17,
   "metadata": {},
   "outputs": [],
   "source": [
    "from keras import optimizers\n",
    "# we use binary_crossentropy as we only have two casses here\n",
    "model.compile(loss='binary_crossentropy',\n",
    "             optimizer = optimizers.RMSprop(lr=1e-4),\n",
    "             metrics=['acc'])"
   ]
  },
  {
   "cell_type": "code",
   "execution_count": 18,
   "metadata": {},
   "outputs": [
    {
     "name": "stdout",
     "output_type": "stream",
     "text": [
      "Found 2000 images belonging to 2 classes.\n",
      "Found 1000 images belonging to 2 classes.\n"
     ]
    }
   ],
   "source": [
    "from keras.preprocessing.image import ImageDataGenerator\n",
    "# setting the data of the images between 0 and 1\n",
    "train_datagen = ImageDataGenerator(rescale=1./255)\n",
    "test_datagen = ImageDataGenerator(rescale=1./255)\n",
    "# batch size is the number of samples running at a time\n",
    "train_generator = train_datagen.flow_from_directory(train_dir,target_size=(150,150) ,batch_size=20,class_mode='binary')\n",
    "validation_generator = test_datagen.flow_from_directory(validation_dir,target_size=(150,150), batch_size=20,class_mode='binary')"
   ]
  },
  {
   "cell_type": "code",
   "execution_count": 19,
   "metadata": {},
   "outputs": [
    {
     "name": "stdout",
     "output_type": "stream",
     "text": [
      "data batch shape is (20, 150, 150, 3)\n",
      "labels batch shape is (20,)\n"
     ]
    }
   ],
   "source": [
    "# We have to check that data and labels are having the same shape\n",
    "for data_batch,labels_batch in train_generator:\n",
    "    print('data batch shape is',data_batch.shape)\n",
    "    print('labels batch shape is',labels_batch.shape)\n",
    "    break"
   ]
  },
  {
   "cell_type": "code",
   "execution_count": null,
   "metadata": {},
   "outputs": [],
   "source": []
  },
  {
   "cell_type": "code",
   "execution_count": 20,
   "metadata": {},
   "outputs": [
    {
     "name": "stdout",
     "output_type": "stream",
     "text": [
      "Epoch 1/30\n",
      "100/100 [==============================] - 194s 2s/step - loss: 0.6873 - acc: 0.5360 - val_loss: 0.6708 - val_acc: 0.5910\n",
      "Epoch 2/30\n",
      "100/100 [==============================] - 188s 2s/step - loss: 0.6534 - acc: 0.6120 - val_loss: 0.6397 - val_acc: 0.6510\n",
      "Epoch 3/30\n",
      "100/100 [==============================] - 183s 2s/step - loss: 0.6092 - acc: 0.6735 - val_loss: 0.6110 - val_acc: 0.6620\n",
      "Epoch 4/30\n",
      "100/100 [==============================] - 180s 2s/step - loss: 0.5692 - acc: 0.7110 - val_loss: 0.5949 - val_acc: 0.6890\n",
      "Epoch 5/30\n",
      "100/100 [==============================] - 183s 2s/step - loss: 0.5326 - acc: 0.7325 - val_loss: 0.5831 - val_acc: 0.6920\n",
      "Epoch 6/30\n",
      "100/100 [==============================] - 185s 2s/step - loss: 0.5028 - acc: 0.7440 - val_loss: 0.5765 - val_acc: 0.6980\n",
      "Epoch 7/30\n",
      "100/100 [==============================] - 189s 2s/step - loss: 0.4866 - acc: 0.7690 - val_loss: 0.5652 - val_acc: 0.7000\n",
      "Epoch 8/30\n",
      "100/100 [==============================] - 184s 2s/step - loss: 0.4556 - acc: 0.7860 - val_loss: 0.5707 - val_acc: 0.7110\n",
      "Epoch 9/30\n",
      "100/100 [==============================] - 184s 2s/step - loss: 0.4301 - acc: 0.7980 - val_loss: 0.6090 - val_acc: 0.6930\n",
      "Epoch 10/30\n",
      "100/100 [==============================] - 186s 2s/step - loss: 0.4006 - acc: 0.8125 - val_loss: 0.5679 - val_acc: 0.7080\n",
      "Epoch 11/30\n",
      "100/100 [==============================] - 183s 2s/step - loss: 0.3737 - acc: 0.8350 - val_loss: 0.6099 - val_acc: 0.7030\n",
      "Epoch 12/30\n",
      "100/100 [==============================] - 182s 2s/step - loss: 0.3454 - acc: 0.8475 - val_loss: 0.6910 - val_acc: 0.6780\n",
      "Epoch 13/30\n",
      "100/100 [==============================] - 178s 2s/step - loss: 0.3255 - acc: 0.8610 - val_loss: 0.5686 - val_acc: 0.7340\n",
      "Epoch 14/30\n",
      "100/100 [==============================] - 178s 2s/step - loss: 0.3026 - acc: 0.8775 - val_loss: 0.5685 - val_acc: 0.7250\n",
      "Epoch 15/30\n",
      "100/100 [==============================] - 173s 2s/step - loss: 0.2850 - acc: 0.8830 - val_loss: 0.5868 - val_acc: 0.7280\n",
      "Epoch 16/30\n",
      "100/100 [==============================] - 179s 2s/step - loss: 0.2545 - acc: 0.8950 - val_loss: 0.6390 - val_acc: 0.7160\n",
      "Epoch 17/30\n",
      "100/100 [==============================] - 180s 2s/step - loss: 0.2336 - acc: 0.9055 - val_loss: 0.6291 - val_acc: 0.7280\n",
      "Epoch 18/30\n",
      "100/100 [==============================] - 181s 2s/step - loss: 0.2048 - acc: 0.9215 - val_loss: 0.6419 - val_acc: 0.7190\n",
      "Epoch 19/30\n",
      "100/100 [==============================] - 175s 2s/step - loss: 0.1868 - acc: 0.9315 - val_loss: 0.7071 - val_acc: 0.7120\n",
      "Epoch 20/30\n",
      "100/100 [==============================] - 180s 2s/step - loss: 0.1684 - acc: 0.9310 - val_loss: 0.6977 - val_acc: 0.7160\n",
      "Epoch 21/30\n",
      "100/100 [==============================] - 175s 2s/step - loss: 0.1549 - acc: 0.9440 - val_loss: 0.8758 - val_acc: 0.7120\n",
      "Epoch 22/30\n",
      "100/100 [==============================] - 172s 2s/step - loss: 0.1249 - acc: 0.9575 - val_loss: 0.7369 - val_acc: 0.7330\n",
      "Epoch 23/30\n",
      "100/100 [==============================] - 172s 2s/step - loss: 0.1103 - acc: 0.9635 - val_loss: 0.8558 - val_acc: 0.7000\n",
      "Epoch 24/30\n",
      "100/100 [==============================] - 228s 2s/step - loss: 0.0980 - acc: 0.9680 - val_loss: 0.7995 - val_acc: 0.7270\n",
      "Epoch 25/30\n",
      "100/100 [==============================] - 176s 2s/step - loss: 0.0838 - acc: 0.9730 - val_loss: 0.7831 - val_acc: 0.7320\n",
      "Epoch 26/30\n",
      "100/100 [==============================] - 179s 2s/step - loss: 0.0729 - acc: 0.9775 - val_loss: 0.8183 - val_acc: 0.7320\n",
      "Epoch 27/30\n",
      "100/100 [==============================] - 193s 2s/step - loss: 0.0567 - acc: 0.9855 - val_loss: 0.9174 - val_acc: 0.7410\n",
      "Epoch 28/30\n",
      "100/100 [==============================] - 188s 2s/step - loss: 0.0588 - acc: 0.9820 - val_loss: 0.9194 - val_acc: 0.7500\n",
      "Epoch 29/30\n",
      "100/100 [==============================] - 197s 2s/step - loss: 0.0451 - acc: 0.9870 - val_loss: 1.0470 - val_acc: 0.7230\n",
      "Epoch 30/30\n",
      "100/100 [==============================] - 189s 2s/step - loss: 0.0369 - acc: 0.9890 - val_loss: 1.0686 - val_acc: 0.7080\n"
     ]
    }
   ],
   "source": [
    "history = model.fit_generator(train_generator,steps_per_epoch=100,epochs=30,validation_data=validation_generator,validation_steps=50)\n"
   ]
  },
  {
   "cell_type": "code",
   "execution_count": 21,
   "metadata": {},
   "outputs": [],
   "source": [
    "model.save('cats_and_dogs_small_2.h5')"
   ]
  },
  {
   "cell_type": "code",
   "execution_count": 23,
   "metadata": {},
   "outputs": [
    {
     "data": {
      "image/png": "[encoded data removed]",
      "text/plain": [
       "<matplotlib.figure.Figure at 0x1fb809a4e48>"
      ]
     },
     "metadata": {},
     "output_type": "display_data"
    },
    {
     "data": {
      "image/png": "[encoded data removed]",
      "text/plain": [
       "<matplotlib.figure.Figure at 0x1fb80a59ba8>"
      ]
     },
     "metadata": {},
     "output_type": "display_data"
    }
   ],
   "source": [
    "import matplotlib.pyplot as plt\n",
    "acc = history.history['acc']\n",
    "val_acc = history.history['val_acc']\n",
    "loss = history.history['loss']\n",
    "val_loss = history.history['val_loss']\n",
    "epochs = range(1, len(acc) + 1)\n",
    "plt.plot(epochs, acc, 'bo', label='Training acc')\n",
    "plt.plot(epochs, val_acc, 'b', label='Validation acc')\n",
    "plt.title('Training and validation accuracy')\n",
    "plt.legend()\n",
    "plt.figure()\n",
    "plt.plot(epochs, loss, 'bo', label='Training loss')\n",
    "plt.plot(epochs, val_loss, 'b', label='Validation loss')\n",
    "plt.title('Training and validation loss')\n",
    "plt.legend()\n",
    "plt.show()"
   ]
  },
  {
   "cell_type": "code",
   "execution_count": 24,
   "metadata": {},
   "outputs": [],
   "source": [
    "# we realize here that the accuracy stops improving after 7th epoch\n",
    "# so we will use data augmentation to mitigate overfitting\n",
    "datagen = ImageDataGenerator(\n",
    "rotation_range=40,\n",
    "width_shift_range=0.2,\n",
    "height_shift_range=0.2,\n",
    "shear_range=0.2,\n",
    "zoom_range=0.2,\n",
    "horizontal_flip=True,\n",
    "fill_mode='nearest')"
   ]
  },
  {
   "cell_type": "code",
   "execution_count": null,
   "metadata": {},
   "outputs": [],
   "source": [
    "from keras.preprocessing import image\n",
    "fnames = [os.path.join(train_cats_dir, fname) for\n",
    "fname in os.listdir(train_cats_dir)]\n",
    "img_path = fnames[3]\n",
    "img = image.load_img(img_path, target_size=(150, 150))\n",
    "x = image.img_to_array(img)\n",
    "x = x.reshape((1,) + x.shape)\n",
    "i = 0\n",
    "for batch in datagen.flow(x, batch_size=1):\n",
    "    plt.figure(i)\n",
    "    imgplot = plt.imshow(image.array_to_img(batch[0]))\n",
    "    i += 1\n",
    "if i % 4 == 0:\n",
    "    break\n",
    "plt.show()"
   ]
  }
 ],
 "metadata": {
  "kernelspec": {
   "display_name": "Python 3",
   "language": "python",
   "name": "python3"
  },
  "language_info": {
   "codemirror_mode": {
    "name": "ipython",
    "version": 3
   },
   "file_extension": ".py",
   "mimetype": "text/x-python",
   "name": "python",
   "nbconvert_exporter": "python",
   "pygments_lexer": "ipython3",
   "version": "3.6.4"
  }
 },
 "nbformat": 4,
 "nbformat_minor": 2
}
