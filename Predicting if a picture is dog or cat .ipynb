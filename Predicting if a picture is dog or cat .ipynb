{
 "cells": [
  {
   "cell_type": "code",
   "execution_count": 2,
   "metadata": {
    "scrolled": true
   },
   "outputs": [],
   "source": [
    "import os, shutil\n",
    "original_dataset_dir = 'E:\\\\train'\n",
    "base_dir = 'E:\\\\cats_and_dogs_small'\n",
    "os.mkdir(base_dir)"
   ]
  },
  {
   "cell_type": "code",
   "execution_count": 3,
   "metadata": {},
   "outputs": [],
   "source": [
    "train_dir = os.path.join(base_dir,'train')\n",
    "os.mkdir(train_dir)"
   ]
  },
  {
   "cell_type": "code",
   "execution_count": 4,
   "metadata": {},
   "outputs": [],
   "source": [
    "validation_dir = os.path.join(base_dir,'validation')\n",
    "os.mkdir(validation_dir)"
   ]
  },
  {
   "cell_type": "code",
   "execution_count": 5,
   "metadata": {},
   "outputs": [],
   "source": [
    "test_dir = os.path.join(base_dir,'test')\n",
    "os.mkdir(test_dir)"
   ]
  },
  {
   "cell_type": "code",
   "execution_count": 6,
   "metadata": {},
   "outputs": [],
   "source": [
    "train_cats_dir = os.path.join(train_dir,'cats')\n",
    "os.mkdir(train_cats_dir)"
   ]
  },
  {
   "cell_type": "code",
   "execution_count": 7,
   "metadata": {},
   "outputs": [],
   "source": [
    "train_dogs_dir = os.path.join(train_dir,'dogs')\n",
    "os.mkdir(train_dogs_dir)"
   ]
  },
  {
   "cell_type": "code",
   "execution_count": 8,
   "metadata": {},
   "outputs": [],
   "source": [
    "validation_dogs_dir = os.path.join(validation_dir,'dogs')\n",
    "os.mkdir(validation_dogs_dir)"
   ]
  },
  {
   "cell_type": "code",
   "execution_count": 9,
   "metadata": {},
   "outputs": [],
   "source": [
    "validation_cats_dir = os.path.join(validation_dir,'cats')\n",
    "os.mkdir(validation_cats_dir)"
   ]
  },
  {
   "cell_type": "code",
   "execution_count": 10,
   "metadata": {},
   "outputs": [],
   "source": [
    "test_dogs_dir = os.path.join(test_dir,'dogs')\n",
    "os.mkdir(test_dogs_dir)"
   ]
  },
  {
   "cell_type": "code",
   "execution_count": 11,
   "metadata": {},
   "outputs": [],
   "source": [
    "test_cats_dir = os.path.join(test_dir,'cats')\n",
    "os.mkdir(test_cats_dir)"
   ]
  },
  {
   "cell_type": "code",
   "execution_count": 12,
   "metadata": {
    "scrolled": false
   },
   "outputs": [],
   "source": [
    "fnames = ['cat.{}.jpg'.format(i) for i in range(1000)]\n",
    "for fname in fnames:\n",
    "    src = os.path.join(original_dataset_dir, fname)\n",
    "    dst = os.path.join(train_cats_dir, fname)\n",
    "    shutil.copyfile(src, dst)"
   ]
  },
  {
   "cell_type": "code",
   "execution_count": 13,
   "metadata": {},
   "outputs": [],
   "source": [
    "# setting the validation data equal to 500\n",
    "fnames = ['cat.{}.jpg'.format(i) for i in range(1000,1500)]\n",
    "for fname in fnames:\n",
    "    src = os.path.join(original_dataset_dir,fname)\n",
    "    dst = os.path.join(validation_cats_dir,fname)\n",
    "    shutil.copyfile(src,dst)"
   ]
  },
  {
   "cell_type": "code",
   "execution_count": 14,
   "metadata": {},
   "outputs": [],
   "source": [
    "fnames = ['cat.{}.jpg'.format(i) for i in range(1500,2000)]\n",
    "for fname in fnames:\n",
    "    src = os.path.join(original_dataset_dir,fname)\n",
    "    dst = os.path.join(test_cats_dir,fname)\n",
    "    shutil.copyfile(src,dst)"
   ]
  },
  {
   "cell_type": "code",
   "execution_count": 15,
   "metadata": {},
   "outputs": [],
   "source": [
    "#setting the training data to 1000 pictures\n",
    "fnames = ['dog.{}.jpg'.format(i) for i in range(1000)]\n",
    "for fname in fnames:\n",
    "    src = os.path.join(original_dataset_dir, fname)\n",
    "    dst = os.path.join(train_dogs_dir, fname)\n",
    "    shutil.copyfile(src, dst)\n",
    "fnames = ['dog.{}.jpg'.format(i) for i in range(1000, 1500)]\n",
    "#setting the validation data equal to 500 sample\n",
    "for fname in fnames:\n",
    "    src = os.path.join(original_dataset_dir, fname)\n",
    "    dst = os.path.join(validation_dogs_dir, fname)\n",
    "    shutil.copyfile(src, dst)\n",
    "# setting test data equal to 500 samples\n",
    "fnames = ['dog.{}.jpg'.format(i) for i in range(1500, 2000)]\n",
    "for fname in fnames:\n",
    "    src = os.path.join(original_dataset_dir, fname)\n",
    "    dst = os.path.join(test_dogs_dir, fname)\n",
    "    shutil.copyfile(src, dst)"
   ]
  },
  {
   "cell_type": "code",
   "execution_count": 17,
   "metadata": {},
   "outputs": [
    {
     "name": "stderr",
     "output_type": "stream",
     "text": [
      "Using TensorFlow backend.\n"
     ]
    }
   ],
   "source": [
    "from keras import layers\n",
    "from keras import models\n"
   ]
  },
  {
   "cell_type": "code",
   "execution_count": 18,
   "metadata": {},
   "outputs": [],
   "source": [
    "model = models.Sequential()\n",
    "model.add(layers.Conv2D(32,(3,3),activation='relu',input_shape=(150,150,3)))\n",
    "model.add(layers.MaxPooling2D((2,2)))\n",
    "model.add(layers.Conv2D(64,(3,3),activation='relu'))\n",
    "model.add(layers.MaxPooling2D((2,2)))\n",
    "model.add(layers.Conv2D(128,(3,3),activation='relu'))\n",
    "model.add(layers.MaxPooling2D((2,2)))\n",
    "model.add(layers.Conv2D(128,(3,3),activation='relu'))\n",
    "model.add(layers.MaxPooling2D((2,2)))\n",
    "model.add(layers.Flatten())\n",
    "model.add(layers.Dense(512,activation='relu'))\n",
    "model.add(layers.Dense(1,activation='sigmoid'))\n"
   ]
  },
  {
   "cell_type": "code",
   "execution_count": 19,
   "metadata": {},
   "outputs": [],
   "source": [
    "from keras import optimizers\n",
    "# we use binary_crossentropy as we only have two casses here\n",
    "model.compile(loss='binary_crossentropy',\n",
    "             optimizer = optimizers.RMSprop(lr=1e-4),\n",
    "             metrics=['acc'])"
   ]
  },
  {
   "cell_type": "code",
   "execution_count": 20,
   "metadata": {},
   "outputs": [
    {
     "name": "stdout",
     "output_type": "stream",
     "text": [
      "Found 2000 images belonging to 2 classes.\n",
      "Found 1000 images belonging to 2 classes.\n"
     ]
    }
   ],
   "source": [
    "from keras.preprocessing.image import ImageDataGenerator\n",
    "# setting the data of the images between 0 and 1\n",
    "train_datagen = ImageDataGenerator(rescale=1./255)\n",
    "test_datagen = ImageDataGenerator(rescale=1./255)\n",
    "# batch size is the number of samples running at a time\n",
    "train_generator = train_datagen.flow_from_directory(train_dir,target_size=(150,150) ,batch_size=20,class_mode='binary')\n",
    "validation_generator = test_datagen.flow_from_directory(validation_dir,target_size=(150,150), batch_size=20,class_mode='binary')"
   ]
  },
  {
   "cell_type": "code",
   "execution_count": 21,
   "metadata": {},
   "outputs": [
    {
     "name": "stdout",
     "output_type": "stream",
     "text": [
      "data batch shape is (20, 150, 150, 3)\n",
      "labels batch shape is (20,)\n"
     ]
    }
   ],
   "source": [
    "# We have to check that data and labels are having the same shape\n",
    "for data_batch,labels_batch in train_generator:\n",
    "    print('data batch shape is',data_batch.shape)\n",
    "    print('labels batch shape is',labels_batch.shape)\n",
    "    break"
   ]
  },
  {
   "cell_type": "code",
   "execution_count": 22,
   "metadata": {},
   "outputs": [
    {
     "name": "stdout",
     "output_type": "stream",
     "text": [
      "Epoch 1/30\n",
      "100/100 [==============================] - 77s 766ms/step - loss: 0.6944 - acc: 0.5205 - val_loss: 0.7199 - val_acc: 0.5000\n",
      "Epoch 2/30\n",
      "100/100 [==============================] - 77s 773ms/step - loss: 0.6588 - acc: 0.6075 - val_loss: 0.7148 - val_acc: 0.5320\n",
      "Epoch 3/30\n",
      "100/100 [==============================] - 78s 780ms/step - loss: 0.6242 - acc: 0.6665 - val_loss: 0.6243 - val_acc: 0.6550\n",
      "Epoch 4/30\n",
      "100/100 [==============================] - 76s 763ms/step - loss: 0.5797 - acc: 0.7110 - val_loss: 0.5917 - val_acc: 0.6830\n",
      "Epoch 5/30\n",
      "100/100 [==============================] - 77s 770ms/step - loss: 0.5334 - acc: 0.7310 - val_loss: 0.5993 - val_acc: 0.6670\n",
      "Epoch 6/30\n",
      "100/100 [==============================] - 77s 766ms/step - loss: 0.5003 - acc: 0.7560 - val_loss: 0.5933 - val_acc: 0.6870\n",
      "Epoch 7/30\n",
      "100/100 [==============================] - 78s 784ms/step - loss: 0.4771 - acc: 0.7740 - val_loss: 0.5766 - val_acc: 0.6950\n",
      "Epoch 8/30\n",
      "100/100 [==============================] - 78s 783ms/step - loss: 0.4504 - acc: 0.7890 - val_loss: 0.5741 - val_acc: 0.7000\n",
      "Epoch 9/30\n",
      "100/100 [==============================] - 76s 765ms/step - loss: 0.4206 - acc: 0.8100 - val_loss: 0.5707 - val_acc: 0.7150\n",
      "Epoch 10/30\n",
      "100/100 [==============================] - 82s 822ms/step - loss: 0.3970 - acc: 0.8220 - val_loss: 0.5697 - val_acc: 0.7130\n",
      "Epoch 11/30\n",
      "100/100 [==============================] - 81s 814ms/step - loss: 0.3727 - acc: 0.8250 - val_loss: 0.6458 - val_acc: 0.6950\n",
      "Epoch 12/30\n",
      "100/100 [==============================] - 76s 765ms/step - loss: 0.3453 - acc: 0.8425 - val_loss: 0.6413 - val_acc: 0.6950\n",
      "Epoch 13/30\n",
      "100/100 [==============================] - 76s 757ms/step - loss: 0.3229 - acc: 0.8635 - val_loss: 0.6509 - val_acc: 0.7000\n",
      "Epoch 14/30\n",
      "100/100 [==============================] - 76s 761ms/step - loss: 0.2951 - acc: 0.8740 - val_loss: 0.6057 - val_acc: 0.7210\n",
      "Epoch 15/30\n",
      "100/100 [==============================] - 76s 762ms/step - loss: 0.2626 - acc: 0.8995 - val_loss: 0.6374 - val_acc: 0.7160\n",
      "Epoch 16/30\n",
      "100/100 [==============================] - 76s 756ms/step - loss: 0.2480 - acc: 0.9005 - val_loss: 0.6442 - val_acc: 0.7350\n",
      "Epoch 17/30\n",
      "100/100 [==============================] - 75s 753ms/step - loss: 0.2123 - acc: 0.9150 - val_loss: 0.7085 - val_acc: 0.7000\n",
      "Epoch 18/30\n",
      "100/100 [==============================] - 75s 754ms/step - loss: 0.1981 - acc: 0.9305 - val_loss: 0.8376 - val_acc: 0.7060\n",
      "Epoch 19/30\n",
      "100/100 [==============================] - 75s 754ms/step - loss: 0.1762 - acc: 0.9335 - val_loss: 0.7341 - val_acc: 0.7200\n",
      "Epoch 20/30\n",
      "100/100 [==============================] - 76s 758ms/step - loss: 0.1543 - acc: 0.9475 - val_loss: 0.7983 - val_acc: 0.7130\n",
      "Epoch 21/30\n",
      "100/100 [==============================] - 75s 752ms/step - loss: 0.1336 - acc: 0.9530 - val_loss: 0.7318 - val_acc: 0.7150\n",
      "Epoch 22/30\n",
      "100/100 [==============================] - 75s 754ms/step - loss: 0.1130 - acc: 0.9625 - val_loss: 0.7848 - val_acc: 0.7060\n",
      "Epoch 23/30\n",
      "100/100 [==============================] - 76s 756ms/step - loss: 0.0934 - acc: 0.9735 - val_loss: 0.8854 - val_acc: 0.6930\n",
      "Epoch 24/30\n",
      "100/100 [==============================] - 75s 754ms/step - loss: 0.0826 - acc: 0.9760 - val_loss: 0.9403 - val_acc: 0.7190\n",
      "Epoch 25/30\n",
      "100/100 [==============================] - 75s 753ms/step - loss: 0.0712 - acc: 0.9810 - val_loss: 0.9300 - val_acc: 0.7080\n",
      "Epoch 26/30\n",
      "100/100 [==============================] - 75s 754ms/step - loss: 0.0510 - acc: 0.9845 - val_loss: 0.9551 - val_acc: 0.7100\n",
      "Epoch 27/30\n",
      "100/100 [==============================] - 76s 755ms/step - loss: 0.0490 - acc: 0.9865 - val_loss: 0.9988 - val_acc: 0.7040\n",
      "Epoch 28/30\n",
      "100/100 [==============================] - 76s 758ms/step - loss: 0.0371 - acc: 0.9905 - val_loss: 1.1255 - val_acc: 0.6990\n",
      "Epoch 29/30\n",
      "100/100 [==============================] - 75s 753ms/step - loss: 0.0321 - acc: 0.9920 - val_loss: 1.0877 - val_acc: 0.7110\n",
      "Epoch 30/30\n",
      "100/100 [==============================] - 75s 755ms/step - loss: 0.0370 - acc: 0.9885 - val_loss: 1.1636 - val_acc: 0.7110\n"
     ]
    }
   ],
   "source": [
    "history = model.fit_generator(train_generator,steps_per_epoch=100,epochs=30,validation_data=validation_generator,validation_steps=50)\n"
   ]
  },
  {
   "cell_type": "code",
   "execution_count": 23,
   "metadata": {},
   "outputs": [],
   "source": [
    "model.save('cats_and_dogs_small_2.h5')"
   ]
  },
  {
   "cell_type": "code",
   "execution_count": 25,
   "metadata": {},
   "outputs": [
    {
     "data": {
      "image/png": "[encoded data removed]",
      "text/plain": [
       "<matplotlib.figure.Figure at 0x2bd007fe4e0>"
      ]
     },
     "metadata": {},
     "output_type": "display_data"
    },
    {
     "data": {
      "image/png": "[encoded data removed]",
      "text/plain": [
       "<matplotlib.figure.Figure at 0x2bd00882b00>"
      ]
     },
     "metadata": {},
     "output_type": "display_data"
    }
   ],
   "source": [
    "import matplotlib.pyplot as plt\n",
    "acc = history.history['acc']\n",
    "val_acc = history.history['val_acc']\n",
    "loss = history.history['loss']\n",
    "val_loss = history.history['val_loss']\n",
    "epochs = range(1, len(acc) + 1)\n",
    "plt.plot(epochs, acc, 'bo', label='Training acc')\n",
    "plt.plot(epochs, val_acc, 'b', label='Validation acc')\n",
    "plt.title('Training and validation accuracy')\n",
    "plt.legend()\n",
    "plt.figure()\n",
    "plt.plot(epochs, loss, 'bo', label='Training loss')\n",
    "plt.plot(epochs, val_loss, 'b', label='Validation loss')\n",
    "plt.title('Training and validation loss')\n",
    "plt.legend()\n",
    "plt.show()"
   ]
  },
  {
   "cell_type": "code",
   "execution_count": 26,
   "metadata": {},
   "outputs": [],
   "source": [
    "# we realize here that the accuracy stops improving after 7th epoch\n",
    "# so we will use data augmentation to mitigate overfitting\n",
    "datagen = ImageDataGenerator(\n",
    "rotation_range=40,\n",
    "width_shift_range=0.2,\n",
    "height_shift_range=0.2,\n",
    "shear_range=0.2,\n",
    "zoom_range=0.2,\n",
    "horizontal_flip=True,\n",
    "fill_mode='nearest')"
   ]
  },
  {
   "cell_type": "code",
   "execution_count": null,
   "metadata": {},
   "outputs": [],
   "source": [
    "# building a new model and this new model will include dropout to overcome overfitting\n",
    "model = models.Sequential()\n",
    "model.add(layers.Conv2D(32, (3, 3), activation='relu',\n",
    "input_shape=(150, 150, 3)))\n",
    "model.add(layers.MaxPooling2D((2, 2)))\n",
    "model.add(layers.Conv2D(64, (3, 3), activation='relu'))\n",
    "model.add(layers.MaxPooling2D((2, 2)))\n",
    "model.add(layers.Conv2D(128, (3, 3), activation='relu'))\n",
    "model.add(layers.MaxPooling2D((2, 2)))\n",
    "model.add(layers.Conv2D(128, (3, 3), activation='relu'))\n",
    "model.add(layers.MaxPooling2D((2, 2)))\n",
    "model.add(layers.Flatten())\n",
    "model.add(layers.Dropout(0.5))\n",
    "model.add(layers.Dense(512, activation='relu'))\n",
    "model.add(layers.Dense(1, activation='sigmoid'))\n",
    "model.compile(loss='binary_crossentropy',\n",
    "optimizer=optimizers.RMSprop(lr=1e-4),\n",
    "metrics=['acc'])"
   ]
  },
  {
   "cell_type": "code",
   "execution_count": null,
   "metadata": {},
   "outputs": [],
   "source": [
    "train_datagen = ImageDataGenerator(\n",
    "rescale=1./255,\n",
    "rotation_range=40,\n",
    "width_shift_range=0.2,\n",
    "height_shift_range=0.2,\n",
    "shear_range=0.2,\n",
    "zoom_range=0.2,\n",
    "horizontal_flip=True,)\n",
    "test_datagen = ImageDataGenerator(rescale=1./255)\n",
    "train_generator = train_datagen.flow_from_directory(\n",
    "train_dir,\n",
    "target_size=(150, 150),\n",
    "batch_size=32,\n",
    "class_mode='binary')\n",
    "validation_generator = test_datagen.flow_from_directory(\n",
    "validation_dir,\n",
    "target_size=(150, 150),\n",
    "batch_size=32,\n",
    "class_mode='binary')\n",
    "history = model.fit_generator(\n",
    "train_generator,\n",
    "steps_per_epoch=100,\n",
    "epochs=100,\n",
    "validation_data=validation_generator,\n",
    "validation_steps=50)"
   ]
  },
  {
   "cell_type": "code",
   "execution_count": null,
   "metadata": {},
   "outputs": [],
   "source": [
    "model.save('cats_and_dogs_small_2.h5')"
   ]
  },
  {
   "cell_type": "code",
   "execution_count": null,
   "metadata": {},
   "outputs": [],
   "source": []
  },
  {
   "cell_type": "code",
   "execution_count": null,
   "metadata": {},
   "outputs": [],
   "source": []
  }
 ],
 "metadata": {
  "kernelspec": {
   "display_name": "Python 3",
   "language": "python",
   "name": "python3"
  },
  "language_info": {
   "codemirror_mode": {
    "name": "ipython",
    "version": 3
   },
   "file_extension": ".py",
   "mimetype": "text/x-python",
   "name": "python",
   "nbconvert_exporter": "python",
   "pygments_lexer": "ipython3",
   "version": "3.6.4"
  }
 },
 "nbformat": 4,
 "nbformat_minor": 2
}
